{
 "cells": [
  {
   "cell_type": "markdown",
   "id": "6bf427f9-d787-4499-a71c-412819eb9a65",
   "metadata": {},
   "source": [
    "## Labeling\n",
    "\n",
    "This notebook contains code that export data for manual labeling"
   ]
  },
  {
   "cell_type": "code",
   "execution_count": 1,
   "id": "442f8a64-1731-442c-910b-f8198f7aed79",
   "metadata": {},
   "outputs": [],
   "source": [
    "import pandas as pd"
   ]
  },
  {
   "cell_type": "code",
   "execution_count": 2,
   "id": "d9158725-feb2-496c-aaa9-f695b1f084f7",
   "metadata": {},
   "outputs": [],
   "source": [
    "metadata = pd.read_json(\"../data/raw/210119_en_deter_preprocessed.json\")\n",
    "metadata = metadata.loc[~metadata[\"fulltext\"].str.contains(\"^Not available.\")].reset_index(drop=True)\n",
    "embeddings = pd.read_csv(\"../data/processed/deciding-on-topic-reduction.csv\")"
   ]
  },
  {
   "cell_type": "code",
   "execution_count": 3,
   "id": "51293ae8-0037-4b1d-861f-035c8cd6728d",
   "metadata": {},
   "outputs": [],
   "source": [
    "assert metadata.shape[0] == embeddings.shape[0]\n",
    "\n",
    "redundant_cols = [\"doc_id\", \"link\", \"onestring\", \"threshold\", \"pub_title\", \"lang\"]\n",
    "df = pd.merge(\n",
    "    metadata.drop(redundant_cols, axis=1),\n",
    "    embeddings,\n",
    "    how=\"left\",\n",
    "    left_index=True,\n",
    "    right_index=True\n",
    ")"
   ]
  },
  {
   "cell_type": "code",
   "execution_count": 4,
   "id": "f11d407f-82ce-4242-9fee-edb487e73065",
   "metadata": {},
   "outputs": [
    {
     "data": {
      "text/html": [
       "<div>\n",
       "<style scoped>\n",
       "    .dataframe tbody tr th:only-of-type {\n",
       "        vertical-align: middle;\n",
       "    }\n",
       "\n",
       "    .dataframe tbody tr th {\n",
       "        vertical-align: top;\n",
       "    }\n",
       "\n",
       "    .dataframe thead th {\n",
       "        text-align: right;\n",
       "    }\n",
       "</style>\n",
       "<table border=\"1\" class=\"dataframe\">\n",
       "  <thead>\n",
       "    <tr style=\"text-align: right;\">\n",
       "      <th></th>\n",
       "      <th>title</th>\n",
       "      <th>author</th>\n",
       "      <th>date</th>\n",
       "      <th>fulltext</th>\n",
       "      <th>x</th>\n",
       "      <th>y</th>\n",
       "      <th>num_label_2</th>\n",
       "      <th>word_label_2</th>\n",
       "      <th>score_2</th>\n",
       "      <th>num_label_3</th>\n",
       "      <th>...</th>\n",
       "      <th>score_17</th>\n",
       "      <th>num_label_18</th>\n",
       "      <th>word_label_18</th>\n",
       "      <th>score_18</th>\n",
       "      <th>num_label_19</th>\n",
       "      <th>word_label_19</th>\n",
       "      <th>score_19</th>\n",
       "      <th>num_label_20</th>\n",
       "      <th>word_label_20</th>\n",
       "      <th>score_20</th>\n",
       "    </tr>\n",
       "  </thead>\n",
       "  <tbody>\n",
       "    <tr>\n",
       "      <th>0</th>\n",
       "      <td>WORLD IN BRIEF Copters rescue ice fishermen</td>\n",
       "      <td>- From news services</td>\n",
       "      <td>1997-01-01</td>\n",
       "      <td>Helicopters rescued scores of people ice-fis...</td>\n",
       "      <td>8.063369</td>\n",
       "      <td>-0.291642</td>\n",
       "      <td>0</td>\n",
       "      <td>pyongyang, hardly, surely, scarcely, inevitably</td>\n",
       "      <td>0.216458</td>\n",
       "      <td>0</td>\n",
       "      <td>...</td>\n",
       "      <td>0.321827</td>\n",
       "      <td>6</td>\n",
       "      <td>republicans, republican, gop, democrat, democrats</td>\n",
       "      <td>0.319669</td>\n",
       "      <td>6</td>\n",
       "      <td>republicans, republican, gop, democrat, democrats</td>\n",
       "      <td>0.322677</td>\n",
       "      <td>7</td>\n",
       "      <td>republicans, republican, gop, democrat, democrats</td>\n",
       "      <td>0.320961</td>\n",
       "    </tr>\n",
       "    <tr>\n",
       "      <th>1</th>\n",
       "      <td>WORLD IN BRIEF Swiss official pressured to quit</td>\n",
       "      <td>- From news services</td>\n",
       "      <td>1997-01-01</td>\n",
       "      <td>Switzerland's largest political party on Sat...</td>\n",
       "      <td>8.119796</td>\n",
       "      <td>-0.541421</td>\n",
       "      <td>0</td>\n",
       "      <td>pyongyang, hardly, surely, scarcely, inevitably</td>\n",
       "      <td>0.251642</td>\n",
       "      <td>0</td>\n",
       "      <td>...</td>\n",
       "      <td>0.304642</td>\n",
       "      <td>6</td>\n",
       "      <td>republicans, republican, gop, democrat, democrats</td>\n",
       "      <td>0.303649</td>\n",
       "      <td>6</td>\n",
       "      <td>republicans, republican, gop, democrat, democrats</td>\n",
       "      <td>0.305321</td>\n",
       "      <td>7</td>\n",
       "      <td>republicans, republican, gop, democrat, democrats</td>\n",
       "      <td>0.305281</td>\n",
       "    </tr>\n",
       "    <tr>\n",
       "      <th>2</th>\n",
       "      <td>How to boost the Western response to Russian h...</td>\n",
       "      <td>Юркова, Ольга</td>\n",
       "      <td>2018-01-01</td>\n",
       "      <td>By Jakub Janda, for European View Abstract The...</td>\n",
       "      <td>10.569654</td>\n",
       "      <td>5.105814</td>\n",
       "      <td>0</td>\n",
       "      <td>pyongyang, hardly, surely, scarcely, inevitably</td>\n",
       "      <td>0.150307</td>\n",
       "      <td>0</td>\n",
       "      <td>...</td>\n",
       "      <td>0.355095</td>\n",
       "      <td>8</td>\n",
       "      <td>nato, russia, enlargement, russian, moscow</td>\n",
       "      <td>0.355415</td>\n",
       "      <td>7</td>\n",
       "      <td>nato, russia, enlargement, russian, moscow</td>\n",
       "      <td>0.355408</td>\n",
       "      <td>6</td>\n",
       "      <td>nato, russia, enlargement, russian, moscow</td>\n",
       "      <td>0.356287</td>\n",
       "    </tr>\n",
       "    <tr>\n",
       "      <th>3</th>\n",
       "      <td>Kremlin Watch Briefing: Does Putin underestima...</td>\n",
       "      <td>Юркова, Ольга</td>\n",
       "      <td>2018-01-01</td>\n",
       "      <td>Topics of the Week Head of MI6:  Putin should ...</td>\n",
       "      <td>11.484039</td>\n",
       "      <td>5.563009</td>\n",
       "      <td>0</td>\n",
       "      <td>pyongyang, hardly, surely, scarcely, inevitably</td>\n",
       "      <td>0.189021</td>\n",
       "      <td>0</td>\n",
       "      <td>...</td>\n",
       "      <td>0.265259</td>\n",
       "      <td>8</td>\n",
       "      <td>nato, russia, enlargement, russian, moscow</td>\n",
       "      <td>0.265297</td>\n",
       "      <td>7</td>\n",
       "      <td>nato, russia, enlargement, russian, moscow</td>\n",
       "      <td>0.264855</td>\n",
       "      <td>6</td>\n",
       "      <td>nato, russia, enlargement, russian, moscow</td>\n",
       "      <td>0.265003</td>\n",
       "    </tr>\n",
       "    <tr>\n",
       "      <th>4</th>\n",
       "      <td>Understanding and Combating Russian and Chines...</td>\n",
       "      <td>Юркова, Ольга</td>\n",
       "      <td>2019-01-01</td>\n",
       "      <td>A motorcade car adorned with Chinese and Russi...</td>\n",
       "      <td>11.507264</td>\n",
       "      <td>5.589423</td>\n",
       "      <td>1</td>\n",
       "      <td>airmen, warfighter, dod, cyber, sustainment</td>\n",
       "      <td>0.199532</td>\n",
       "      <td>1</td>\n",
       "      <td>...</td>\n",
       "      <td>0.321802</td>\n",
       "      <td>13</td>\n",
       "      <td>cyber, malicious, cyberattacks, cybersecurity,...</td>\n",
       "      <td>0.321942</td>\n",
       "      <td>13</td>\n",
       "      <td>cyber, malicious, cyberattacks, cybersecurity,...</td>\n",
       "      <td>0.320756</td>\n",
       "      <td>13</td>\n",
       "      <td>cyber, malicious, cyberattacks, cybersecurity,...</td>\n",
       "      <td>0.319590</td>\n",
       "    </tr>\n",
       "  </tbody>\n",
       "</table>\n",
       "<p>5 rows × 63 columns</p>\n",
       "</div>"
      ],
      "text/plain": [
       "                                               title                author  \\\n",
       "0        WORLD IN BRIEF Copters rescue ice fishermen  - From news services   \n",
       "1    WORLD IN BRIEF Swiss official pressured to quit  - From news services   \n",
       "2  How to boost the Western response to Russian h...         Юркова, Ольга   \n",
       "3  Kremlin Watch Briefing: Does Putin underestima...         Юркова, Ольга   \n",
       "4  Understanding and Combating Russian and Chines...         Юркова, Ольга   \n",
       "\n",
       "        date                                           fulltext          x  \\\n",
       "0 1997-01-01    Helicopters rescued scores of people ice-fis...   8.063369   \n",
       "1 1997-01-01    Switzerland's largest political party on Sat...   8.119796   \n",
       "2 2018-01-01  By Jakub Janda, for European View Abstract The...  10.569654   \n",
       "3 2018-01-01  Topics of the Week Head of MI6:  Putin should ...  11.484039   \n",
       "4 2019-01-01  A motorcade car adorned with Chinese and Russi...  11.507264   \n",
       "\n",
       "          y  num_label_2                                     word_label_2  \\\n",
       "0 -0.291642            0  pyongyang, hardly, surely, scarcely, inevitably   \n",
       "1 -0.541421            0  pyongyang, hardly, surely, scarcely, inevitably   \n",
       "2  5.105814            0  pyongyang, hardly, surely, scarcely, inevitably   \n",
       "3  5.563009            0  pyongyang, hardly, surely, scarcely, inevitably   \n",
       "4  5.589423            1      airmen, warfighter, dod, cyber, sustainment   \n",
       "\n",
       "    score_2  num_label_3  ...  score_17  num_label_18  \\\n",
       "0  0.216458            0  ...  0.321827             6   \n",
       "1  0.251642            0  ...  0.304642             6   \n",
       "2  0.150307            0  ...  0.355095             8   \n",
       "3  0.189021            0  ...  0.265259             8   \n",
       "4  0.199532            1  ...  0.321802            13   \n",
       "\n",
       "                                       word_label_18  score_18  num_label_19  \\\n",
       "0  republicans, republican, gop, democrat, democrats  0.319669             6   \n",
       "1  republicans, republican, gop, democrat, democrats  0.303649             6   \n",
       "2         nato, russia, enlargement, russian, moscow  0.355415             7   \n",
       "3         nato, russia, enlargement, russian, moscow  0.265297             7   \n",
       "4  cyber, malicious, cyberattacks, cybersecurity,...  0.321942            13   \n",
       "\n",
       "                                       word_label_19  score_19  num_label_20  \\\n",
       "0  republicans, republican, gop, democrat, democrats  0.322677             7   \n",
       "1  republicans, republican, gop, democrat, democrats  0.305321             7   \n",
       "2         nato, russia, enlargement, russian, moscow  0.355408             6   \n",
       "3         nato, russia, enlargement, russian, moscow  0.264855             6   \n",
       "4  cyber, malicious, cyberattacks, cybersecurity,...  0.320756            13   \n",
       "\n",
       "                                       word_label_20  score_20  \n",
       "0  republicans, republican, gop, democrat, democrats  0.320961  \n",
       "1  republicans, republican, gop, democrat, democrats  0.305281  \n",
       "2         nato, russia, enlargement, russian, moscow  0.356287  \n",
       "3         nato, russia, enlargement, russian, moscow  0.265003  \n",
       "4  cyber, malicious, cyberattacks, cybersecurity,...  0.319590  \n",
       "\n",
       "[5 rows x 63 columns]"
      ]
     },
     "execution_count": 4,
     "metadata": {},
     "output_type": "execute_result"
    }
   ],
   "source": [
    "df.head()"
   ]
  },
  {
   "cell_type": "code",
   "execution_count": 5,
   "id": "29488ddb-3ed1-4aaf-abff-8fbb9a3c33c5",
   "metadata": {},
   "outputs": [],
   "source": [
    "df.to_csv(\"../data/processed/metadata_embeddings.csv\", index=False)"
   ]
  },
  {
   "cell_type": "code",
   "execution_count": 6,
   "id": "74a3566c-b3be-4be7-b1de-67b8feb87f77",
   "metadata": {},
   "outputs": [],
   "source": [
    "top20 = df.loc[:, [\"x\", \"y\", \"title\", \"author\", \"date\", \"fulltext\", \"num_label_20\", \"word_label_20\", \"score_20\"]]"
   ]
  },
  {
   "cell_type": "code",
   "execution_count": 7,
   "id": "ac0fd8bd-3656-410c-a6e6-b8a43a2c93b8",
   "metadata": {},
   "outputs": [],
   "source": [
    "top20.to_csv(\"../data/processed/metadata_embeddings_20-topics.csv\", index=False)"
   ]
  },
  {
   "cell_type": "code",
   "execution_count": 8,
   "id": "5c1cf722-e298-491a-9af9-a45011f5ac07",
   "metadata": {},
   "outputs": [],
   "source": [
    "top_docs = top20.groupby(\"num_label_20\")[\"score_20\"].nlargest(25)"
   ]
  },
  {
   "cell_type": "code",
   "execution_count": 9,
   "id": "ba1d5c55-2f42-4b65-abd0-a5e2ecddb584",
   "metadata": {},
   "outputs": [],
   "source": [
    "top20.loc[top_docs.index.get_level_values(1), :].to_csv(\"../data/processed/labeling-20-topics-25-docs.csv\", index=False)"
   ]
  },
  {
   "cell_type": "markdown",
   "id": "ac7208dd-78ee-42ea-b179-84b23f50a78d",
   "metadata": {},
   "source": [
    "---"
   ]
  },
  {
   "cell_type": "code",
   "execution_count": 10,
   "id": "dbbbc0b5-fa46-4d72-8b67-7eb0670beebd",
   "metadata": {},
   "outputs": [],
   "source": [
    "LABELS = {\n",
    "    0: \"Unidentifiable\",\n",
    "    1: \"North Korea nuclear issues\",\n",
    "    2: \"India-Pakistani nuclear tensions I\", #!\n",
    "    3: \"Middle East nuclear issues\",\n",
    "    4: \"Russia's nuclear program\",\n",
    "    5: \"Deterrence in the context of the size and reduction of WMD\",\n",
    "    6: \"US/NATO rivalry with Russia\",\n",
    "    7: \"American internal discourse on deterrence\",\n",
    "    8: \"West Europe nuclear issues in the late Cold War context\",\n",
    "    9: \"North Korea nuclear issues II\", #!\n",
    "    10: \"Nuclear disarmament and non-proliferation\",\n",
    "    11: \"Role of the US Air Force in deterrence I\", #!\n",
    "    12: \"India-Pakistani nuclear tensions II\",\n",
    "    13: \"Cyberdeterrence\",\n",
    "    14: \"UK nuclear issues\",\n",
    "    15: \"U.S. MPs involvement in defense policy\",\n",
    "    16: \"Antiballistic/missile system and deterrence\",\n",
    "    17: \"Private companies in nuclear policy\",\n",
    "    18: \"Deterrence of China\",\n",
    "    19: \"Role of the US Air Force in deterrence II\" #!\n",
    "}"
   ]
  },
  {
   "cell_type": "code",
   "execution_count": 11,
   "id": "ec7cb852-9f10-4b84-8604-e7d25b27ae2d",
   "metadata": {},
   "outputs": [],
   "source": [
    "top20[\"labels\"] = top20[\"num_label_20\"].map(LABELS)"
   ]
  },
  {
   "cell_type": "code",
   "execution_count": 14,
   "id": "85325816-376c-40f7-968a-7ada880bde11",
   "metadata": {},
   "outputs": [],
   "source": [
    "top20[\"tweaked_labels\"] = top20[\"labels\"].str.replace(\"I$|II$\", \"\", regex=True).str.strip()"
   ]
  },
  {
   "cell_type": "code",
   "execution_count": 15,
   "id": "f6957282-b7d3-4bbd-9b60-d5aaec488604",
   "metadata": {},
   "outputs": [
    {
     "data": {
      "text/plain": [
       "North Korea nuclear issues                                    3148\n",
       "India-Pakistani nuclear tensions                              2745\n",
       "Unidentifiable                                                2740\n",
       "Role of the US Air Force in deterrence                        2126\n",
       "Middle East nuclear issues                                    1490\n",
       "Russia's nuclear program                                      1426\n",
       "Deterrence in the context of the size and reduction of WMD    1376\n",
       "US/NATO rivalry with Russia                                   1322\n",
       "American internal discourse on deterrence                     1303\n",
       "West Europe nuclear issues in the late Cold War context       1275\n",
       "Nuclear disarmament and non-proliferation                     1184\n",
       "Cyberdeterrence                                               1159\n",
       "UK nuclear issues                                             1098\n",
       "U.S. MPs involvement in defense policy                        1069\n",
       "Antiballistic/missile system and deterrence                   1066\n",
       "Private companies in nuclear policy                           1017\n",
       "Deterrence of China                                            981\n",
       "Name: tweaked_labels, dtype: int64"
      ]
     },
     "execution_count": 15,
     "metadata": {},
     "output_type": "execute_result"
    }
   ],
   "source": [
    "top20[\"tweaked_labels\"].value_counts()"
   ]
  },
  {
   "cell_type": "code",
   "execution_count": 18,
   "id": "5ffe9cbf-aefb-4120-93ff-9097f893d194",
   "metadata": {},
   "outputs": [],
   "source": [
    "top20.drop(\"fulltext\", 1).to_csv(\"../data/processed/labeled-dataset.csv\", index=False)"
   ]
  }
 ],
 "metadata": {
  "kernelspec": {
   "display_name": "Python 3",
   "language": "python",
   "name": "python3"
  },
  "language_info": {
   "codemirror_mode": {
    "name": "ipython",
    "version": 3
   },
   "file_extension": ".py",
   "mimetype": "text/x-python",
   "name": "python",
   "nbconvert_exporter": "python",
   "pygments_lexer": "ipython3",
   "version": "3.8.5"
  }
 },
 "nbformat": 4,
 "nbformat_minor": 5
}
