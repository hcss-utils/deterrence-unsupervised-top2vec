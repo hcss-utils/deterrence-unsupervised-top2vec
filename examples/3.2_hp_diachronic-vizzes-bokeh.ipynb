{
 "cells": [
  {
   "cell_type": "code",
   "execution_count": 1,
   "id": "86b05d91-5cb8-47fb-abb5-fcd9f34b6c74",
   "metadata": {},
   "outputs": [],
   "source": [
    "import pandas as pd\n",
    "from bokeh.models import ColumnDataSource, HoverTool, Range1d, CustomJS, Slider\n",
    "from bokeh.palettes import Category20\n",
    "from bokeh.plotting import figure, show, output_file, save\n",
    "from bokeh.layouts import column"
   ]
  },
  {
   "cell_type": "code",
   "execution_count": 2,
   "id": "e69ded1e-90bf-496d-9527-680070ff46c2",
   "metadata": {},
   "outputs": [],
   "source": [
    "df = pd.read_csv(\"../data/processed/labeled-dataset.csv\")\n",
    "df = df.loc[df[\"date\"].notnull()].copy()\n",
    "df[\"year\"] = pd.to_datetime(df[\"date\"]).dt.year.astype(int)"
   ]
  },
  {
   "cell_type": "code",
   "execution_count": 3,
   "id": "4b3fef1b-db16-4ccd-a562-e24e02753005",
   "metadata": {},
   "outputs": [],
   "source": [
    "colors = {label: color for label, color in zip(df[\"labels\"].unique(), Category20.get(20))}\n",
    "df[\"colors\"] = df[\"labels\"].map(colors)"
   ]
  },
  {
   "cell_type": "code",
   "execution_count": 4,
   "id": "6797e2d3-e937-416c-809a-8eb9d8c9a285",
   "metadata": {},
   "outputs": [],
   "source": [
    "source = ColumnDataSource(\n",
    "    data={\n",
    "        \"x\": df[\"x\"],\n",
    "        \"y\": df[\"y\"],\n",
    "        \"colors\": df[\"colors\"],\n",
    "        \"topic\": df[\"labels\"],\n",
    "        \"title\": df[\"title\"],\n",
    "        \"author\": df[\"author\"],\n",
    "        \"year\": df[\"year\"],\n",
    "        \"alpha\": [0.7] * df.shape[0],\n",
    "        \"size\": [7] * df.shape[0]\n",
    "    }\n",
    ")\n",
    "\n",
    "hover_emb = HoverTool(names=[\"df\"], tooltips=\"\"\"\n",
    "    <div style=\"margin: 10\">\n",
    "        <div style=\"margin: 0 auto; width:300px;\">\n",
    "            <span style=\"font-size: 12px; font-weight: bold;\">Topic:</span>\n",
    "            <span style=\"font-size: 12px\">@topic<br></span>\n",
    "            <span style=\"font-size: 12px; font-weight: bold;\">Title:</span>\n",
    "            <span style=\"font-size: 12px\">@title<br></span>\n",
    "            <span style=\"font-size: 12px; font-weight: bold;\">Author:</span>\n",
    "            <span style=\"font-size: 12px\">@author<br></span>   \n",
    "            <span style=\"font-size: 12px; font-weight: bold;\">Year:</span>\n",
    "            <span style=\"font-size: 12px\">@year<br></span>         \n",
    "        </div>\n",
    "    </div>\n",
    "    \"\"\")"
   ]
  },
  {
   "cell_type": "code",
   "execution_count": 5,
   "id": "27ce1a31-68c8-4e50-b2ff-b450c8d7ce53",
   "metadata": {},
   "outputs": [
    {
     "name": "stderr",
     "output_type": "stream",
     "text": [
      "BokehDeprecationWarning: 'legend' keyword is deprecated, use explicit 'legend_label', 'legend_field', or 'legend_group' keywords instead\n"
     ]
    }
   ],
   "source": [
    "tools_emb = [hover_emb, 'pan', 'wheel_zoom', 'reset']\n",
    "plot = figure(\n",
    "    plot_width=800, \n",
    "    plot_height=800, \n",
    "    tools=tools_emb, \n",
    "    title='UMAP projection of 2D embeddings')\n",
    "plot.circle(\n",
    "    \"x\", \n",
    "    \"y\", \n",
    "    size=\"size\", \n",
    "    fill_color=\"colors\",\n",
    "    alpha=\"alpha\", \n",
    "    line_alpha=0, \n",
    "    line_width=0.01, \n",
    "    source=source, \n",
    "    name=\"df\", \n",
    "    legend=\"topic\"\n",
    ")\n",
    "\n",
    "plot.legend.location = \"bottom_left\"\n",
    "plot.legend.label_text_font_size= \"8pt\"\n",
    "plot.legend.background_fill_alpha = 0.0\n",
    "plot.legend.spacing = -5\n",
    "\n",
    "# plot.x_range = Range1d(-10, 10)\n",
    "plot.x_range = Range1d(-2, 17)\n",
    "plot.y_range = Range1d(-5, 15)\n",
    "# plot.y_range = Range1d(-10, 10)"
   ]
  },
  {
   "cell_type": "code",
   "execution_count": 6,
   "id": "d119d637-7cfb-43ec-bcee-11a01ce4ba03",
   "metadata": {},
   "outputs": [
    {
     "data": {
      "text/plain": [
       "'C:\\\\github\\\\deterrence-unsupervised-top2vec\\\\reports\\\\figures\\\\interactive_callbacks.html'"
      ]
     },
     "execution_count": 6,
     "metadata": {},
     "output_type": "execute_result"
    }
   ],
   "source": [
    "callback = CustomJS(args=dict(source=source), code=\n",
    "    \"\"\"\n",
    "    var data = source.data\n",
    "    console.log(data)\n",
    "    var f = cb_obj.value\n",
    "    var x = data['x']\n",
    "    var y = data['y']\n",
    "    var colors = data['color']\n",
    "    var alpha = data['alpha']\n",
    "    var title = data['title']\n",
    "    var year = data['year']\n",
    "    var size = data['size']\n",
    "    for (var i = 0; i < x.length; i++) {\n",
    "        if (year[i] <= f) {\n",
    "            alpha[i] = 0.9\n",
    "            size[i] = 7\n",
    "        } else {\n",
    "            alpha[i] = 0.05\n",
    "            size[i] = 4\n",
    "        }\n",
    "    }\n",
    "    source.change.emit();\n",
    "    \"\"\")\n",
    "\n",
    "slider = Slider(start=df.year.min(), end=df.year.max()+1, value=2020, step=1, title=\"Before year\")\n",
    "slider.js_on_change(\"value\", callback)\n",
    "\n",
    "layout = column(slider, plot)\n",
    "# show(layout)\n",
    "output_file(\"../reports/figures/bokeh.html\")\n",
    "save(layout)"
   ]
  }
 ],
 "metadata": {
  "kernelspec": {
   "display_name": "Python 3",
   "language": "python",
   "name": "python3"
  },
  "language_info": {
   "codemirror_mode": {
    "name": "ipython",
    "version": 3
   },
   "file_extension": ".py",
   "mimetype": "text/x-python",
   "name": "python",
   "nbconvert_exporter": "python",
   "pygments_lexer": "ipython3",
   "version": "3.8.5"
  }
 },
 "nbformat": 4,
 "nbformat_minor": 5
}
