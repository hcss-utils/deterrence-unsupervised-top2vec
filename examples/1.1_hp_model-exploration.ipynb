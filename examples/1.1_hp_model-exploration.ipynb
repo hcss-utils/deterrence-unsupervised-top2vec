{
 "cells": [
  {
   "cell_type": "markdown",
   "metadata": {},
   "source": [
    "# Exploratory data analysis"
   ]
  },
  {
   "cell_type": "code",
   "execution_count": 1,
   "metadata": {},
   "outputs": [],
   "source": [
    "from top2vec import Top2Vec"
   ]
  },
  {
   "cell_type": "code",
   "execution_count": 2,
   "metadata": {},
   "outputs": [],
   "source": [
    "model = Top2Vec.load(\"../models/pq-model\")"
   ]
  },
  {
   "cell_type": "code",
   "execution_count": 3,
   "metadata": {},
   "outputs": [
    {
     "data": {
      "text/plain": [
       "229"
      ]
     },
     "execution_count": 3,
     "metadata": {},
     "output_type": "execute_result"
    }
   ],
   "source": [
    "model.get_num_topics()"
   ]
  },
  {
   "cell_type": "markdown",
   "metadata": {},
   "source": [
    "## Stats"
   ]
  },
  {
   "cell_type": "code",
   "execution_count": 4,
   "metadata": {},
   "outputs": [],
   "source": [
    "topic_sizes, topic_nums = model.get_topic_sizes()"
   ]
  },
  {
   "cell_type": "code",
   "execution_count": 5,
   "metadata": {},
   "outputs": [
    {
     "data": {
      "text/plain": [
       "array([906, 635, 634, 586, 502, 438, 436, 397, 381, 344, 338, 332, 306,\n",
       "       298, 288, 281, 266, 264, 261, 254, 243, 236, 235, 230, 219, 214,\n",
       "       205, 202, 197, 195, 183, 179, 176, 175, 174, 169, 163, 163, 162,\n",
       "       161, 155, 154, 154, 153, 153, 152, 151, 151, 150, 147, 147, 146,\n",
       "       144, 144, 142, 142, 142, 140, 138, 136, 135, 134, 133, 132, 132,\n",
       "       129, 128, 127, 127, 123, 122, 122, 122, 121, 118, 117, 116, 115,\n",
       "       115, 115, 115, 114, 114, 113, 112, 110, 109, 109, 107, 105, 104,\n",
       "       104,  99,  97,  97,  97,  97,  96,  95,  95,  95,  95,  93,  92,\n",
       "        91,  91,  90,  90,  90,  89,  88,  87,  86,  84,  81,  81,  80,\n",
       "        80,  77,  76,  76,  76,  76,  75,  74,  74,  73,  72,  72,  71,\n",
       "        71,  70,  70,  69,  68,  68,  68,  67,  67,  67,  67,  66,  65,\n",
       "        64,  63,  62,  61,  61,  60,  60,  60,  59,  58,  58,  58,  58,\n",
       "        57,  57,  57,  57,  56,  56,  56,  55,  53,  53,  53,  53,  52,\n",
       "        52,  51,  50,  50,  48,  48,  48,  47,  47,  46,  46,  46,  46,\n",
       "        45,  45,  45,  45,  44,  43,  42,  42,  41,  40,  40,  40,  40,\n",
       "        39,  39,  38,  38,  37,  36,  36,  35,  35,  34,  34,  34,  34,\n",
       "        33,  32,  29,  29,  29,  26,  26,  23,  23,  23,  22,  21,  21,\n",
       "        21,  21,  19,  19,  17,  17,  16,  16], dtype=int64)"
      ]
     },
     "execution_count": 5,
     "metadata": {},
     "output_type": "execute_result"
    }
   ],
   "source": [
    "topic_sizes"
   ]
  },
  {
   "cell_type": "code",
   "execution_count": 6,
   "metadata": {},
   "outputs": [
    {
     "data": {
      "text/plain": [
       "array([  0,   1,   2,   3,   4,   5,   6,   7,   8,   9,  10,  11,  12,\n",
       "        13,  14,  15,  16,  17,  18,  19,  20,  21,  22,  23,  24,  25,\n",
       "        26,  27,  28,  29,  30,  31,  32,  33,  34,  35,  36,  37,  38,\n",
       "        39,  40,  41,  42,  43,  44,  45,  46,  47,  48,  49,  50,  51,\n",
       "        52,  53,  54,  55,  56,  57,  58,  59,  60,  61,  62,  63,  64,\n",
       "        65,  66,  67,  68,  69,  70,  71,  72,  73,  74,  75,  76,  77,\n",
       "        78,  79,  80,  81,  82,  83,  84,  85,  86,  87,  88,  89,  90,\n",
       "        91,  92,  93,  94,  95,  96,  97,  98,  99, 100, 101, 102, 103,\n",
       "       104, 105, 106, 107, 108, 109, 110, 111, 112, 113, 114, 115, 116,\n",
       "       117, 118, 119, 120, 121, 122, 123, 124, 125, 126, 127, 128, 129,\n",
       "       130, 131, 132, 133, 134, 135, 136, 137, 138, 139, 140, 141, 142,\n",
       "       143, 144, 145, 146, 147, 148, 149, 150, 151, 152, 153, 154, 155,\n",
       "       156, 157, 158, 159, 160, 161, 162, 163, 164, 165, 166, 167, 168,\n",
       "       169, 170, 171, 172, 173, 174, 175, 176, 177, 178, 179, 180, 181,\n",
       "       182, 183, 184, 185, 186, 187, 188, 189, 190, 191, 192, 193, 194,\n",
       "       195, 196, 197, 198, 199, 200, 201, 202, 203, 204, 205, 206, 207,\n",
       "       208, 209, 210, 211, 212, 213, 214, 215, 216, 217, 218, 219, 220,\n",
       "       221, 222, 223, 224, 225, 226, 227, 228], dtype=int64)"
      ]
     },
     "execution_count": 6,
     "metadata": {},
     "output_type": "execute_result"
    }
   ],
   "source": [
    "topic_nums"
   ]
  },
  {
   "cell_type": "markdown",
   "metadata": {},
   "source": [
    "---"
   ]
  },
  {
   "cell_type": "code",
   "execution_count": 7,
   "metadata": {},
   "outputs": [],
   "source": [
    "topic_words, word_scores, topic_nums = model.get_topics(5)"
   ]
  },
  {
   "cell_type": "code",
   "execution_count": 8,
   "metadata": {},
   "outputs": [
    {
     "data": {
      "text/plain": [
       "array([0, 1, 2, 3, 4])"
      ]
     },
     "execution_count": 8,
     "metadata": {},
     "output_type": "execute_result"
    }
   ],
   "source": [
    "topic_nums"
   ]
  },
  {
   "cell_type": "code",
   "execution_count": 9,
   "metadata": {},
   "outputs": [
    {
     "data": {
      "text/plain": [
       "array(['cyber', 'malicious', 'cyberattacks', 'cybersecurity', 'hacking',\n",
       "       'cyberspace', 'hackers', 'cyberattack', 'intrusions', 'dhs',\n",
       "       'vulnerabilities', 'hacks', 'cyberdefense', 'hack', 'espionage',\n",
       "       'botnet', 'cisa', 'networks', 'iwpnews', 'botnets', 'ransomware',\n",
       "       'cybercriminals', 'nist', 'attacks', 'cyberthreats', 'cybercrime',\n",
       "       'cyberespionage', 'hacker', 'mccaul', 'wannacry', 'nextgov',\n",
       "       'malware', 'privacy', 'opm', 'attackers', 'crowdstrike',\n",
       "       'kaspersky', 'solarium', 'bytes', 'sony', 'manfra', 'breaches',\n",
       "       'internet', 'cilluffo', 'painter', 'attribution', 'indictments',\n",
       "       'tools', 'equifax', 'notpetya'], dtype='<U15')"
      ]
     },
     "execution_count": 9,
     "metadata": {},
     "output_type": "execute_result"
    }
   ],
   "source": [
    "topic_words[0]"
   ]
  },
  {
   "cell_type": "code",
   "execution_count": 10,
   "metadata": {},
   "outputs": [
    {
     "data": {
      "text/plain": [
       "array([0.75755143, 0.70885235, 0.70787835, 0.6899235 , 0.63624084,\n",
       "       0.6308662 , 0.6029006 , 0.5977791 , 0.59550697, 0.58970124,\n",
       "       0.5805716 , 0.5762578 , 0.5533622 , 0.5531944 , 0.5485279 ,\n",
       "       0.5460817 , 0.54406196, 0.5418258 , 0.5370071 , 0.5366596 ,\n",
       "       0.5316953 , 0.5236969 , 0.5156599 , 0.5153907 , 0.51167107,\n",
       "       0.50703466, 0.5069616 , 0.5036001 , 0.50255996, 0.5002145 ,\n",
       "       0.49515504, 0.4950173 , 0.4943766 , 0.49298516, 0.49072987,\n",
       "       0.48610336, 0.48387212, 0.47901618, 0.47697747, 0.47320914,\n",
       "       0.47315586, 0.47283694, 0.47277325, 0.4726628 , 0.47200993,\n",
       "       0.47170675, 0.4698819 , 0.4660082 , 0.4648782 , 0.4647547 ],\n",
       "      dtype=float32)"
      ]
     },
     "execution_count": 10,
     "metadata": {},
     "output_type": "execute_result"
    }
   ],
   "source": [
    "word_scores[0]"
   ]
  },
  {
   "cell_type": "markdown",
   "metadata": {},
   "source": [
    "## Search Topics"
   ]
  },
  {
   "cell_type": "code",
   "execution_count": 11,
   "metadata": {},
   "outputs": [],
   "source": [
    "keywords = [\"ukraine\", \"russia\"]"
   ]
  },
  {
   "cell_type": "code",
   "execution_count": 12,
   "metadata": {},
   "outputs": [],
   "source": [
    "topic_words, word_scores, topic_scores, topic_nums = model.search_topics(\n",
    "    keywords=keywords, \n",
    "    keywords_neg=[],\n",
    "    num_topics=5\n",
    ")"
   ]
  },
  {
   "cell_type": "code",
   "execution_count": 13,
   "metadata": {},
   "outputs": [
    {
     "data": {
      "text/plain": [
       "array([126,  85,  48,  47,  79], dtype=int64)"
      ]
     },
     "execution_count": 13,
     "metadata": {},
     "output_type": "execute_result"
    }
   ],
   "source": [
    "topic_nums"
   ]
  },
  {
   "cell_type": "code",
   "execution_count": 14,
   "metadata": {},
   "outputs": [
    {
     "data": {
      "text/plain": [
       "array([0.62217708, 0.61194204, 0.57380665, 0.38456735, 0.36369773])"
      ]
     },
     "execution_count": 14,
     "metadata": {},
     "output_type": "execute_result"
    }
   ],
   "source": [
    "topic_scores"
   ]
  },
  {
   "cell_type": "code",
   "execution_count": 15,
   "metadata": {},
   "outputs": [
    {
     "name": "stdout",
     "output_type": "stream",
     "text": [
      "Topic 126 was the most similar topic to ['ukraine', 'russia'] with a cosine similarity of 0.6221770786932632\n",
      "Values can be from least similar 0, to most similar 1\n"
     ]
    }
   ],
   "source": [
    "print(f\"Topic {topic_nums[0]} was the most similar topic to {keywords} with a cosine similarity of {topic_scores[0]}\")\n",
    "print(\"Values can be from least similar 0, to most similar 1\")"
   ]
  },
  {
   "cell_type": "markdown",
   "metadata": {},
   "source": [
    "## Search Papers by Topic"
   ]
  },
  {
   "cell_type": "code",
   "execution_count": 16,
   "metadata": {},
   "outputs": [],
   "source": [
    "documents, document_scores, document_ids = model.search_documents_by_topic(topic_num=126, num_docs=5)"
   ]
  },
  {
   "cell_type": "code",
   "execution_count": 17,
   "metadata": {},
   "outputs": [
    {
     "data": {
      "text/plain": [
       "array([20741,  4780, 20735, 20740,  4779])"
      ]
     },
     "execution_count": 17,
     "metadata": {},
     "output_type": "execute_result"
    }
   ],
   "source": [
    "document_ids"
   ]
  },
  {
   "cell_type": "code",
   "execution_count": 18,
   "metadata": {},
   "outputs": [
    {
     "data": {
      "text/plain": [
       "array([0.7195847 , 0.7111148 , 0.7007531 , 0.6991152 , 0.69874346],\n",
       "      dtype=float32)"
      ]
     },
     "execution_count": 18,
     "metadata": {},
     "output_type": "execute_result"
    }
   ],
   "source": [
    "document_scores"
   ]
  },
  {
   "cell_type": "code",
   "execution_count": 19,
   "metadata": {},
   "outputs": [
    {
     "data": {
      "text/plain": [
       "'  Angela Merkel grew up under communist rule in the old East Germany. She speaks fluent Russian. She has been the chancellor of Germany for the past 10 years. And for all that time she has been negotiating with the Russian president, Vladimir Putin, on wide variety of subjects - including, for the past year, Ukraine. They may not like each other much, but they certainly know each other. So listen to what Merkel said about the debate in the United States military, in Congress, and even in the White House about sending direct American military aid to the Ukrainian Government. \"I cannot imagine any situation in which improved equipment for the Ukrainian army leads to President Putin being so impressed that he believes he will lose militarily,\" she said. \"I have to put it that bluntly.\" Does anybody think that Merkel is wrong about this? Does any sane person think Putin would flee in panic if he hears that the US is going to send Ukraine \"defensive weapons\" (anti-tank weapons, anti-artille'"
      ]
     },
     "execution_count": 19,
     "metadata": {},
     "output_type": "execute_result"
    }
   ],
   "source": [
    "documents[0][:1_000]"
   ]
  },
  {
   "cell_type": "markdown",
   "metadata": {},
   "source": [
    "## Search Papers by Keywords"
   ]
  },
  {
   "cell_type": "code",
   "execution_count": 20,
   "metadata": {},
   "outputs": [],
   "source": [
    "documents, document_scores, document_nums = model.search_documents_by_keywords(\n",
    "    keywords=keywords, \n",
    "#     keywords_neg=[],\n",
    "    num_docs=20\n",
    ")"
   ]
  },
  {
   "cell_type": "code",
   "execution_count": 21,
   "metadata": {},
   "outputs": [
    {
     "data": {
      "text/plain": [
       "array([25926, 26520, 23618, 21868, 23998,  5075, 23617, 20380,  3661,\n",
       "        7550,  7553, 25450, 12890, 25509, 25449,  8239,  9577, 22506,\n",
       "        5326, 20738])"
      ]
     },
     "execution_count": 21,
     "metadata": {},
     "output_type": "execute_result"
    }
   ],
   "source": [
    "document_nums"
   ]
  },
  {
   "cell_type": "code",
   "execution_count": 22,
   "metadata": {},
   "outputs": [
    {
     "data": {
      "text/plain": [
       "\"Summary Over the last five years, Congress and the executive branch have closely monitored and responded to new developments in Russian policy. These developments include the following: * increasingly authoritarian governance since Vladimir Putin's return to the presidential post in 2012; * Russia's 2014 annexation of Ukraine's Crimea region and support of separatists in eastern Ukraine; * violations of the Intermediate-Range Nuclear Forces (INF) Treaty; * Moscow's intervention in Syria in support of Bashar al Asad's government; * increased military activity in Europe; and * cyber-related influence operations that, according to the U.S. intelligence community, have targeted the 2016 U.S. presidential election and countries in Europe. In response, the United States has imposed economic and diplomatic sanctions related to Russia's actions in Ukraine and Syria, malicious cyber activity, and human rights violations. The United States also has led NATO in developing a new military posture i\""
      ]
     },
     "execution_count": 22,
     "metadata": {},
     "output_type": "execute_result"
    }
   ],
   "source": [
    "documents[0][:1_000]"
   ]
  },
  {
   "cell_type": "markdown",
   "metadata": {},
   "source": [
    "## Find Similar Words"
   ]
  },
  {
   "cell_type": "code",
   "execution_count": 23,
   "metadata": {},
   "outputs": [],
   "source": [
    "words, word_scores = model.similar_words(\n",
    "    keywords=keywords, \n",
    "    keywords_neg=[], \n",
    "    num_words=20\n",
    ")"
   ]
  },
  {
   "cell_type": "code",
   "execution_count": 24,
   "metadata": {},
   "outputs": [
    {
     "data": {
      "text/plain": [
       "array(['russian', 'crimea', 'ukrainian', 'putin', 'moscow', 'kremlin',\n",
       "       'kiev', 'annexation', 'moldova', 'georgia', 'vladimir', 'kyiv',\n",
       "       'crimean', 'belarus', 'eastern', 'baltic', 'ukrainians', 'minsk',\n",
       "       'republics', 'baltics'], dtype='<U10')"
      ]
     },
     "execution_count": 24,
     "metadata": {},
     "output_type": "execute_result"
    }
   ],
   "source": [
    "words"
   ]
  },
  {
   "cell_type": "code",
   "execution_count": 25,
   "metadata": {},
   "outputs": [
    {
     "data": {
      "text/plain": [
       "array([0.81741235, 0.79551787, 0.75525872, 0.73421386, 0.71389064,\n",
       "       0.68924886, 0.68706251, 0.67602416, 0.6601434 , 0.63141801,\n",
       "       0.61529981, 0.61397165, 0.61295702, 0.61107625, 0.61064725,\n",
       "       0.61042709, 0.60922095, 0.6010138 , 0.5993101 , 0.58993778])"
      ]
     },
     "execution_count": 25,
     "metadata": {},
     "output_type": "execute_result"
    }
   ],
   "source": [
    "word_scores"
   ]
  }
 ],
 "metadata": {
  "kernelspec": {
   "display_name": "Python 3",
   "language": "python",
   "name": "python3"
  },
  "language_info": {
   "codemirror_mode": {
    "name": "ipython",
    "version": 3
   },
   "file_extension": ".py",
   "mimetype": "text/x-python",
   "name": "python",
   "nbconvert_exporter": "python",
   "pygments_lexer": "ipython3",
   "version": "3.8.5"
  }
 },
 "nbformat": 4,
 "nbformat_minor": 4
}
